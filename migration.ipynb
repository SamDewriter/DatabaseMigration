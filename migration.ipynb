{
 "cells": [
  {
   "cell_type": "code",
   "execution_count": 2,
   "metadata": {},
   "outputs": [
    {
     "name": "stdout",
     "output_type": "stream",
     "text": [
      "Collecting psycopg2\n",
      "  Downloading psycopg2-2.9.1-cp38-cp38-win_amd64.whl (1.1 MB)\n",
      "Installing collected packages: psycopg2\n",
      "Successfully installed psycopg2-2.9.1\n"
     ]
    },
    {
     "name": "stderr",
     "output_type": "stream",
     "text": [
      "  WARNING: Retrying (Retry(total=4, connect=None, read=None, redirect=None, status=None)) after connection broken by 'ConnectTimeoutError(<pip._vendor.urllib3.connection.HTTPSConnection object at 0x000001DA7FE90FA0>, 'Connection to files.pythonhosted.org timed out. (connect timeout=15)')': /packages/71/72/5f9d608c0aa120f8ea21cac9bd4e9f5bd515444ab96af98bea47ffcd8c20/psycopg2-2.9.1-cp38-cp38-win_amd64.whl\n"
     ]
    }
   ],
   "source": [
    "!pip install psycopg2"
   ]
  },
  {
   "cell_type": "code",
   "execution_count": 4,
   "metadata": {},
   "outputs": [
    {
     "name": "stdout",
     "output_type": "stream",
     "text": [
      "Collecting include\n",
      "  Downloading include-0.2.2-py2.py3-none-any.whl (14 kB)\n",
      "Installing collected packages: include\n",
      "Successfully installed include-0.2.2\n"
     ]
    },
    {
     "name": "stderr",
     "output_type": "stream",
     "text": [
      "  WARNING: Retrying (Retry(total=4, connect=None, read=None, redirect=None, status=None)) after connection broken by 'ConnectTimeoutError(<pip._vendor.urllib3.connection.HTTPSConnection object at 0x000001844E37A8B0>, 'Connection to files.pythonhosted.org timed out. (connect timeout=15)')': /packages/0f/2c/69552fa13f4a1af5a58f5f2a964bfdefdf6614a0d21b141fd9ed24c2776e/include-0.2.2-py2.py3-none-any.whl\n"
     ]
    }
   ],
   "source": [
    "!pip install include"
   ]
  },
  {
   "cell_type": "code",
   "execution_count": 93,
   "metadata": {},
   "outputs": [
    {
     "name": "stdout",
     "output_type": "stream",
     "text": [
      "Connected to MySQL Database\n",
      "Connected to PostgreSQL Database\n"
     ]
    },
    {
     "ename": "IndexError",
     "evalue": "index 5 is out of bounds for axis 0 with size 5",
     "output_type": "error",
     "traceback": [
      "\u001b[1;31m---------------------------------------------------------------------------\u001b[0m",
      "\u001b[1;31mIndexError\u001b[0m                                Traceback (most recent call last)",
      "\u001b[1;32m<ipython-input-93-b68fad300751>\u001b[0m in \u001b[0;36m<module>\u001b[1;34m\u001b[0m\n\u001b[0;32m     45\u001b[0m     \u001b[1;32mtry\u001b[0m\u001b[1;33m:\u001b[0m\u001b[1;33m\u001b[0m\u001b[1;33m\u001b[0m\u001b[0m\n\u001b[0;32m     46\u001b[0m         \u001b[0mpsql\u001b[0m \u001b[1;33m=\u001b[0m \u001b[1;34m'INSERT INTO first_data.load_data3 VALUES (%s, %s, %s, %s, %s, %s)'\u001b[0m\u001b[1;33m\u001b[0m\u001b[1;33m\u001b[0m\u001b[0m\n\u001b[1;32m---> 47\u001b[1;33m         \u001b[0mcur_psql\u001b[0m\u001b[1;33m.\u001b[0m\u001b[0mexecute\u001b[0m\u001b[1;33m(\u001b[0m\u001b[0mpsql\u001b[0m\u001b[1;33m,\u001b[0m \u001b[0mrow\u001b[0m\u001b[1;33m)\u001b[0m\u001b[1;33m\u001b[0m\u001b[1;33m\u001b[0m\u001b[0m\n\u001b[0m\u001b[0;32m     48\u001b[0m \u001b[1;33m\u001b[0m\u001b[0m\n\u001b[0;32m     49\u001b[0m     \u001b[1;32mexcept\u001b[0m \u001b[0mpsycopg2\u001b[0m\u001b[1;33m.\u001b[0m\u001b[0mError\u001b[0m \u001b[1;32mas\u001b[0m \u001b[0me\u001b[0m\u001b[1;33m:\u001b[0m\u001b[1;33m\u001b[0m\u001b[1;33m\u001b[0m\u001b[0m\n",
      "\u001b[1;32m~\\Anaconda3\\Anaconda4\\lib\\site-packages\\pandas\\core\\series.py\u001b[0m in \u001b[0;36m__getitem__\u001b[1;34m(self, key)\u001b[0m\n\u001b[0;32m    877\u001b[0m \u001b[1;33m\u001b[0m\u001b[0m\n\u001b[0;32m    878\u001b[0m         \u001b[1;32mif\u001b[0m \u001b[0mis_integer\u001b[0m\u001b[1;33m(\u001b[0m\u001b[0mkey\u001b[0m\u001b[1;33m)\u001b[0m \u001b[1;32mand\u001b[0m \u001b[0mself\u001b[0m\u001b[1;33m.\u001b[0m\u001b[0mindex\u001b[0m\u001b[1;33m.\u001b[0m\u001b[0m_should_fallback_to_positional\u001b[0m\u001b[1;33m(\u001b[0m\u001b[1;33m)\u001b[0m\u001b[1;33m:\u001b[0m\u001b[1;33m\u001b[0m\u001b[1;33m\u001b[0m\u001b[0m\n\u001b[1;32m--> 879\u001b[1;33m             \u001b[1;32mreturn\u001b[0m \u001b[0mself\u001b[0m\u001b[1;33m.\u001b[0m\u001b[0m_values\u001b[0m\u001b[1;33m[\u001b[0m\u001b[0mkey\u001b[0m\u001b[1;33m]\u001b[0m\u001b[1;33m\u001b[0m\u001b[1;33m\u001b[0m\u001b[0m\n\u001b[0m\u001b[0;32m    880\u001b[0m \u001b[1;33m\u001b[0m\u001b[0m\n\u001b[0;32m    881\u001b[0m         \u001b[1;32melif\u001b[0m \u001b[0mkey_is_scalar\u001b[0m\u001b[1;33m:\u001b[0m\u001b[1;33m\u001b[0m\u001b[1;33m\u001b[0m\u001b[0m\n",
      "\u001b[1;31mIndexError\u001b[0m: index 5 is out of bounds for axis 0 with size 5"
     ]
    }
   ],
   "source": [
    "import os\n",
    "import pandas as pd\n",
    "import sys\n",
    "import psycopg2\n",
    "from pprint import pprint\n",
    "import MySQLdb\n",
    "import pymysql\n",
    "pymysql.install_as_MySQLdb()\n",
    "import mysql.connector as msql\n",
    "from mysql.connector import Error\n",
    "# Import internal snippets     \n",
    "#from include.db_config import *\n",
    "#from include.MySQLCursorDict import *\n",
    "\n",
    "# Open database connections   \n",
    "# Mysql connection\n",
    "try:\n",
    "    conn_mysql= msql.connect(host='localhost', database='davis2', user='root', password='bo2108luwatife@1')\n",
    "    print('Connected to MySQL Database')\n",
    "except Error as e:\n",
    "    print(\"Error while connecting to MySQL\", e)\n",
    "    sys.exit(1)\n",
    "# Postgresql connection\n",
    "try:\n",
    "    conn_psql = psycopg2.connect(host='localhost', database='sensor_data', user='postgres', password='bo2108luwatife@1')\n",
    "    print('Connected to PostgreSQL Database')\n",
    "except psycopg2.Error as e:\n",
    "    print('PSQL: Unable to connect!\\n{0}').format(e)\n",
    "    sys.exit(1)\n",
    "    \n",
    " # Cursors initializations\n",
    "cur_mysql = conn_mysql.cursor(dictionary=True)\n",
    "cur_psql = conn_psql.cursor()\n",
    "\n",
    " #create table\n",
    "mysql_query = pd.read_sql_query('''SELECT flow1, occupancy1, flow2, \n",
    "                    flow3, occupancy3 FROM davis2.load_data3''', conn_mysql)\n",
    "new_df = pd.DataFrame(mysql_query)\n",
    "\n",
    "create_psql_table = '''CREATE TABLE load_data3 (\n",
    "                        flow1 FLOAT, occupancy1 FLOAT, flow2 FLOAT, flow3 FLOAT, occupancy3 FLOAT)'''\n",
    "cur_psql.execute(create_psql_table)\n",
    "\n",
    "for i, row in new_df.iterrows():\n",
    "    try:\n",
    "        psql = 'INSERT INTO first_data.load_data3 VALUES (%s, %s, %s, %s, %s, %s)'\n",
    "        cur_psql.execute(psql, tuple(row))\n",
    "        \n",
    "    except psycopg2.Error as e:\n",
    "        print(\"cannot execute that query!\", e.pgerror)\n",
    "        sys.exit(\"Some problem occured with that query!\")   \n",
    "## Closing cursors\n",
    "cur_mysql.close()\n",
    "cur_psql.close()\n",
    "\n",
    "## Committing \n",
    "conn_psql.commit()\n",
    "\n",
    "## Closing database connections\n",
    "conn_mysql.close()\n",
    "conn_psql.close()"
   ]
  },
  {
   "cell_type": "code",
   "execution_count": 92,
   "metadata": {},
   "outputs": [
    {
     "name": "stdout",
     "output_type": "stream",
     "text": [
      "flow1               2\n",
      "occupancy1     0.0122\n",
      "flow2             3.0\n",
      "flow3         0.01945\n",
      "occupancy3     0.0122\n",
      "Name: 0, dtype: object\n"
     ]
    }
   ],
   "source": [
    "print(row)"
   ]
  },
  {
   "cell_type": "code",
   "execution_count": null,
   "metadata": {},
   "outputs": [],
   "source": []
  }
 ],
 "metadata": {
  "kernelspec": {
   "display_name": "Python 3",
   "language": "python",
   "name": "python3"
  },
  "language_info": {
   "codemirror_mode": {
    "name": "ipython",
    "version": 3
   },
   "file_extension": ".py",
   "mimetype": "text/x-python",
   "name": "python",
   "nbconvert_exporter": "python",
   "pygments_lexer": "ipython3",
   "version": "3.8.5"
  }
 },
 "nbformat": 4,
 "nbformat_minor": 4
}
